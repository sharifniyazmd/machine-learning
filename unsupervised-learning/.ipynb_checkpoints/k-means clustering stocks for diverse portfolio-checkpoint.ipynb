{
 "cells": [
  {
   "cell_type": "code",
   "execution_count": 5,
   "metadata": {},
   "outputs": [],
   "source": [
    "import pandas as pd\n",
    "import matplotlib.pyplot as plt\n",
    "\n",
    "snp500url = \"https://en.wikipedia.org/wiki/List_of_S%26P_500_companies\"\n",
    "\n",
    "#scraping wikipedia to fetch S&P 500 stock list\n",
    "data_table = pd.read_html(snp500url)\n",
    "#print(data_table)"
   ]
  },
  {
   "cell_type": "code",
   "execution_count": 7,
   "metadata": {},
   "outputs": [
    {
     "name": "stdout",
     "output_type": "stream",
     "text": [
      "['MMM', 'ABT', 'ABBV', 'ACN', 'ATVI', 'AYI', 'ADBE', 'AMD', 'AAP', 'AES', 'AET', 'AMG', 'AFL', 'A', 'APD', 'AKAM', 'ALK', 'ALB', 'ARE', 'ALXN', 'ALGN', 'ALLE', 'AGN', 'ADS', 'LNT', 'ALL', 'GOOGL', 'GOOG', 'MO', 'AMZN', 'AEE', 'AAL', 'AEP', 'AXP', 'AIG', 'AMT', 'AWK', 'AMP', 'ABC', 'AME', 'AMGN', 'APH', 'APC', 'ADI', 'ANDV', 'ANSS', 'ANTM', 'AON', 'AOS', 'APA', 'AIV', 'AAPL', 'AMAT', 'APTV', 'ADM', 'ARNC', 'AJG', 'AIZ', 'T', 'ADSK', 'ADP', 'AZO', 'AVB', 'AVY', 'BHGE', 'BLL', 'BAC', 'BK', 'BAX', 'BBT', 'BDX', 'BRK.B', 'BBY', 'BIIB', 'BLK', 'HRB', 'BA', 'BKNG', 'BWA', 'BXP', 'BSX', 'BHF', 'BMY', 'AVGO', 'BF.B', 'CHRW', 'CA', 'COG', 'CDNS', 'CPB', 'COF', 'CAH', 'CBOE', 'KMX', 'CCL', 'CAT', 'CBG', 'CBS', 'CELG', 'CNC', 'CNP', 'CTL', 'CERN', 'CF', 'SCHW', 'CHTR', 'CHK', 'CVX', 'CMG', 'CB', 'CHD', 'CI', 'XEC', 'CINF', 'CTAS', 'CSCO', 'C', 'CFG', 'CTXS', 'CLX', 'CME', 'CMS', 'KO', 'CTSH', 'CL', 'CMCSA', 'CMA', 'CAG', 'CXO', 'COP', 'ED', 'STZ', 'COO', 'GLW', 'COST', 'COTY', 'CCI', 'CSRA', 'CSX', 'CMI', 'CVS', 'DHI', 'DHR', 'DRI', 'DVA', 'DE', 'DAL', 'XRAY', 'DVN', 'DLR', 'DFS', 'DISCA', 'DISCK', 'DISH', 'DG', 'DLTR', 'D', 'DOV', 'DWDP', 'DPS', 'DTE', 'DRE', 'DUK', 'DXC', 'ETFC', 'EMN', 'ETN', 'EBAY', 'ECL', 'EIX', 'EW', 'EA', 'EMR', 'ETR', 'EVHC', 'EOG', 'EQT', 'EFX', 'EQIX', 'EQR', 'ESS', 'EL', 'ES', 'RE', 'EXC', 'EXPE', 'EXPD', 'ESRX', 'EXR', 'XOM', 'FFIV', 'FB', 'FAST', 'FRT', 'FDX', 'FIS', 'FITB', 'FE', 'FISV', 'FLIR', 'FLS', 'FLR', 'FMC', 'FL', 'F', 'FTV', 'FBHS', 'BEN', 'FCX', 'GPS', 'GRMN', 'IT', 'GD', 'GE', 'GGP', 'GIS', 'GM', 'GPC', 'GILD', 'GPN', 'GS', 'GT', 'GWW', 'HAL', 'HBI', 'HOG', 'HRS', 'HIG', 'HAS', 'HCA', 'HCP', 'HP', 'HSIC', 'HSY', 'HES', 'HPE', 'HLT', 'HOLX', 'HD', 'HON', 'HRL', 'HST', 'HPQ', 'HUM', 'HBAN', 'HII', 'IDXX', 'INFO', 'ITW', 'ILMN', 'IR', 'INTC', 'ICE', 'IBM', 'INCY', 'IP', 'IPG', 'IFF', 'INTU', 'ISRG', 'IVZ', 'IPGP', 'IQV', 'IRM', 'JEC', 'JBHT', 'SJM', 'JNJ', 'JCI', 'JPM', 'JNPR', 'KSU', 'K', 'KEY', 'KMB', 'KIM', 'KMI', 'KLAC', 'KSS', 'KHC', 'KR', 'LB', 'LLL', 'LH', 'LRCX', 'LEG', 'LEN', 'LUK', 'LLY', 'LNC', 'LKQ', 'LMT', 'L', 'LOW', 'LYB', 'MTB', 'MAC', 'M', 'MRO', 'MPC', 'MAR', 'MMC', 'MLM', 'MAS', 'MA', 'MAT', 'MKC', 'MCD', 'MCK', 'MDT', 'MRK', 'MET', 'MTD', 'MGM', 'KORS', 'MCHP', 'MU', 'MSFT', 'MAA', 'MHK', 'TAP', 'MDLZ', 'MON', 'MNST', 'MCO', 'MS', 'MOS', 'MSI', 'MYL', 'NDAQ', 'NOV', 'NAVI', 'NTAP', 'NFLX', 'NWL', 'NFX', 'NEM', 'NWSA', 'NWS', 'NEE', 'NLSN', 'NKE', 'NI', 'NBL', 'JWN', 'NSC', 'NTRS', 'NOC', 'NCLH', 'NRG', 'NUE', 'NVDA', 'ORLY', 'OXY', 'OMC', 'OKE', 'ORCL', 'PCAR', 'PKG', 'PH', 'PDCO', 'PAYX', 'PYPL', 'PNR', 'PBCT', 'PEP', 'PKI', 'PRGO', 'PFE', 'PCG', 'PM', 'PSX', 'PNW', 'PXD', 'PNC', 'RL', 'PPG', 'PPL', 'PX', 'PFG', 'PG', 'PGR', 'PLD', 'PRU', 'PEG', 'PSA', 'PHM', 'PVH', 'QRVO', 'PWR', 'QCOM', 'DGX', 'RRC', 'RJF', 'RTN', 'O', 'RHT', 'REG', 'REGN', 'RF', 'RSG', 'RMD', 'RHI', 'ROK', 'COL', 'ROP', 'ROST', 'RCL', 'CRM', 'SBAC', 'SCG', 'SLB', 'STX', 'SEE', 'SRE', 'SHW', 'SIG', 'SPG', 'SWKS', 'SLG', 'SNA', 'SO', 'LUV', 'SPGI', 'SWK', 'SBUX', 'STT', 'SRCL', 'SYK', 'STI', 'SYMC', 'SYF', 'SNPS', 'SYY', 'TROW', 'TPR', 'TGT', 'TEL', 'FTI', 'TXN', 'TXT', 'TMO', 'TIF', 'TWX', 'TJX', 'TMK', 'TSS', 'TSCO', 'TDG', 'TRV', 'TRIP', 'FOXA', 'FOX', 'TSN', 'UDR', 'ULTA', 'USB', 'UAA', 'UA', 'UNP', 'UAL', 'UNH', 'UPS', 'URI', 'UTX', 'UHS', 'UNM', 'VFC', 'VLO', 'VAR', 'VTR', 'VRSN', 'VRSK', 'VZ', 'VRTX', 'VIAB', 'V', 'VNO', 'VMC', 'WMT', 'WBA', 'DIS', 'WM', 'WAT', 'WEC', 'WFC', 'WELL', 'WDC', 'WU', 'WRK', 'WY', 'WHR', 'WMB', 'WLTW', 'WYN', 'WYNN', 'XEL', 'XRX', 'XLNX', 'XL', 'XYL', 'YUM', 'ZBH', 'ZION', 'ZTS']\n",
      "\n",
      "Total number of companies are:\n"
     ]
    },
    {
     "data": {
      "text/plain": [
       "505"
      ]
     },
     "execution_count": 7,
     "metadata": {},
     "output_type": "execute_result"
    }
   ],
   "source": [
    "tickers = data_table[0][1:][0].tolist()\n",
    "print(tickers)\n",
    "\n",
    "print(\"\\nTotal number of companies are:\")\n",
    "len(tickers)"
   ]
  },
  {
   "cell_type": "code",
   "execution_count": 11,
   "metadata": {},
   "outputs": [
    {
     "name": "stderr",
     "output_type": "stream",
     "text": [
      "F:\\Anaconda\\lib\\site-packages\\pandas_datareader\\google\\daily.py:40: UnstableAPIWarning: \n",
      "The Google Finance API has not been stable since late 2017. Requests seem\n",
      "to fail at random. Failure is especially common when bulk downloading.\n",
      "\n",
      "  warnings.warn(UNSTABLE_WARNING, UnstableAPIWarning)\n"
     ]
    }
   ],
   "source": [
    "from pylab import plot,show\n",
    "from numpy import vstack,array\n",
    "from numpy.random import rand\n",
    "import numpy as np\n",
    "from scipy.cluster.vq import kmeans,vq\n",
    "import pandas_datareader as dr\n",
    "from math import sqrt\n",
    "from sklearn.cluster import KMeans\n",
    "from matplotlib import pyplot as plt\n",
    "\n",
    "#setting the plt size\n",
    "plt.rcParams['figure.figsize'] = 9,8\n",
    "\n",
    "#fetching tickers(500) closing prices from google finance, using DataReader package for this purpose\n",
    "price_list = []\n",
    "for ticker in tickers:\n",
    "    try:\n",
    "        prices = dr.DataReader(ticker,'google','01/01/2018')['Close']\n",
    "        #print(prices)\n",
    "        prices = pd.DataFrame(prices)\n",
    "        prices.columns = [ticker]\n",
    "        price_list.append(prices)\n",
    "    except:\n",
    "        pass\n",
    "    prices_df = pd.concat(price_list,axis=1)\n",
    "prices_df.sort_index(inplace=True)"
   ]
  },
  {
   "cell_type": "code",
   "execution_count": 9,
   "metadata": {},
   "outputs": [
    {
     "data": {
      "text/html": [
       "<div>\n",
       "<style>\n",
       "    .dataframe thead tr:only-child th {\n",
       "        text-align: right;\n",
       "    }\n",
       "\n",
       "    .dataframe thead th {\n",
       "        text-align: left;\n",
       "    }\n",
       "\n",
       "    .dataframe tbody tr th {\n",
       "        vertical-align: top;\n",
       "    }\n",
       "</style>\n",
       "<table border=\"1\" class=\"dataframe\">\n",
       "  <thead>\n",
       "    <tr style=\"text-align: right;\">\n",
       "      <th></th>\n",
       "      <th>MMM</th>\n",
       "      <th>ABT</th>\n",
       "      <th>ABBV</th>\n",
       "      <th>ACN</th>\n",
       "      <th>ATVI</th>\n",
       "      <th>AYI</th>\n",
       "      <th>ADBE</th>\n",
       "      <th>AMD</th>\n",
       "      <th>AAP</th>\n",
       "      <th>AES</th>\n",
       "      <th>...</th>\n",
       "      <th>WYNN</th>\n",
       "      <th>XEL</th>\n",
       "      <th>XRX</th>\n",
       "      <th>XLNX</th>\n",
       "      <th>XL</th>\n",
       "      <th>XYL</th>\n",
       "      <th>YUM</th>\n",
       "      <th>ZBH</th>\n",
       "      <th>ZION</th>\n",
       "      <th>ZTS</th>\n",
       "    </tr>\n",
       "    <tr>\n",
       "      <th>Date</th>\n",
       "      <th></th>\n",
       "      <th></th>\n",
       "      <th></th>\n",
       "      <th></th>\n",
       "      <th></th>\n",
       "      <th></th>\n",
       "      <th></th>\n",
       "      <th></th>\n",
       "      <th></th>\n",
       "      <th></th>\n",
       "      <th></th>\n",
       "      <th></th>\n",
       "      <th></th>\n",
       "      <th></th>\n",
       "      <th></th>\n",
       "      <th></th>\n",
       "      <th></th>\n",
       "      <th></th>\n",
       "      <th></th>\n",
       "      <th></th>\n",
       "      <th></th>\n",
       "    </tr>\n",
       "  </thead>\n",
       "  <tbody>\n",
       "    <tr>\n",
       "      <th>2018-01-02</th>\n",
       "      <td>235.64</td>\n",
       "      <td>58.79</td>\n",
       "      <td>98.41</td>\n",
       "      <td>153.84</td>\n",
       "      <td>64.31</td>\n",
       "      <td>179.81</td>\n",
       "      <td>177.70</td>\n",
       "      <td>10.98</td>\n",
       "      <td>106.09</td>\n",
       "      <td>10.88</td>\n",
       "      <td>...</td>\n",
       "      <td>164.30</td>\n",
       "      <td>47.81</td>\n",
       "      <td>29.37</td>\n",
       "      <td>67.88</td>\n",
       "      <td>34.02</td>\n",
       "      <td>68.07</td>\n",
       "      <td>81.60</td>\n",
       "      <td>124.06</td>\n",
       "      <td>50.70</td>\n",
       "      <td>71.77</td>\n",
       "    </tr>\n",
       "    <tr>\n",
       "      <th>2018-01-03</th>\n",
       "      <td>235.63</td>\n",
       "      <td>58.92</td>\n",
       "      <td>99.95</td>\n",
       "      <td>154.55</td>\n",
       "      <td>65.31</td>\n",
       "      <td>177.64</td>\n",
       "      <td>181.04</td>\n",
       "      <td>11.55</td>\n",
       "      <td>107.05</td>\n",
       "      <td>10.87</td>\n",
       "      <td>...</td>\n",
       "      <td>162.52</td>\n",
       "      <td>47.49</td>\n",
       "      <td>29.33</td>\n",
       "      <td>69.24</td>\n",
       "      <td>34.43</td>\n",
       "      <td>68.90</td>\n",
       "      <td>81.53</td>\n",
       "      <td>124.92</td>\n",
       "      <td>50.64</td>\n",
       "      <td>72.10</td>\n",
       "    </tr>\n",
       "    <tr>\n",
       "      <th>2018-01-04</th>\n",
       "      <td>238.71</td>\n",
       "      <td>58.82</td>\n",
       "      <td>99.38</td>\n",
       "      <td>156.38</td>\n",
       "      <td>64.66</td>\n",
       "      <td>180.60</td>\n",
       "      <td>183.22</td>\n",
       "      <td>12.12</td>\n",
       "      <td>111.00</td>\n",
       "      <td>10.83</td>\n",
       "      <td>...</td>\n",
       "      <td>163.40</td>\n",
       "      <td>47.12</td>\n",
       "      <td>29.69</td>\n",
       "      <td>70.49</td>\n",
       "      <td>35.24</td>\n",
       "      <td>69.36</td>\n",
       "      <td>82.36</td>\n",
       "      <td>124.74</td>\n",
       "      <td>50.85</td>\n",
       "      <td>72.53</td>\n",
       "    </tr>\n",
       "    <tr>\n",
       "      <th>2018-01-05</th>\n",
       "      <td>240.57</td>\n",
       "      <td>58.99</td>\n",
       "      <td>101.11</td>\n",
       "      <td>157.67</td>\n",
       "      <td>66.37</td>\n",
       "      <td>185.36</td>\n",
       "      <td>185.34</td>\n",
       "      <td>11.88</td>\n",
       "      <td>112.18</td>\n",
       "      <td>10.87</td>\n",
       "      <td>...</td>\n",
       "      <td>164.49</td>\n",
       "      <td>46.79</td>\n",
       "      <td>29.91</td>\n",
       "      <td>74.15</td>\n",
       "      <td>34.65</td>\n",
       "      <td>69.23</td>\n",
       "      <td>82.84</td>\n",
       "      <td>125.98</td>\n",
       "      <td>50.87</td>\n",
       "      <td>73.36</td>\n",
       "    </tr>\n",
       "    <tr>\n",
       "      <th>2018-01-08</th>\n",
       "      <td>239.79</td>\n",
       "      <td>58.82</td>\n",
       "      <td>99.49</td>\n",
       "      <td>158.93</td>\n",
       "      <td>66.63</td>\n",
       "      <td>185.73</td>\n",
       "      <td>185.04</td>\n",
       "      <td>12.28</td>\n",
       "      <td>111.39</td>\n",
       "      <td>10.87</td>\n",
       "      <td>...</td>\n",
       "      <td>162.30</td>\n",
       "      <td>47.14</td>\n",
       "      <td>30.26</td>\n",
       "      <td>74.64</td>\n",
       "      <td>34.46</td>\n",
       "      <td>69.48</td>\n",
       "      <td>82.98</td>\n",
       "      <td>126.22</td>\n",
       "      <td>50.62</td>\n",
       "      <td>74.24</td>\n",
       "    </tr>\n",
       "  </tbody>\n",
       "</table>\n",
       "<p>5 rows × 500 columns</p>\n",
       "</div>"
      ],
      "text/plain": [
       "               MMM    ABT    ABBV     ACN   ATVI     AYI    ADBE    AMD  \\\n",
       "Date                                                                      \n",
       "2018-01-02  235.64  58.79   98.41  153.84  64.31  179.81  177.70  10.98   \n",
       "2018-01-03  235.63  58.92   99.95  154.55  65.31  177.64  181.04  11.55   \n",
       "2018-01-04  238.71  58.82   99.38  156.38  64.66  180.60  183.22  12.12   \n",
       "2018-01-05  240.57  58.99  101.11  157.67  66.37  185.36  185.34  11.88   \n",
       "2018-01-08  239.79  58.82   99.49  158.93  66.63  185.73  185.04  12.28   \n",
       "\n",
       "               AAP    AES  ...      WYNN    XEL    XRX   XLNX     XL    XYL  \\\n",
       "Date                       ...                                                \n",
       "2018-01-02  106.09  10.88  ...    164.30  47.81  29.37  67.88  34.02  68.07   \n",
       "2018-01-03  107.05  10.87  ...    162.52  47.49  29.33  69.24  34.43  68.90   \n",
       "2018-01-04  111.00  10.83  ...    163.40  47.12  29.69  70.49  35.24  69.36   \n",
       "2018-01-05  112.18  10.87  ...    164.49  46.79  29.91  74.15  34.65  69.23   \n",
       "2018-01-08  111.39  10.87  ...    162.30  47.14  30.26  74.64  34.46  69.48   \n",
       "\n",
       "              YUM     ZBH   ZION    ZTS  \n",
       "Date                                     \n",
       "2018-01-02  81.60  124.06  50.70  71.77  \n",
       "2018-01-03  81.53  124.92  50.64  72.10  \n",
       "2018-01-04  82.36  124.74  50.85  72.53  \n",
       "2018-01-05  82.84  125.98  50.87  73.36  \n",
       "2018-01-08  82.98  126.22  50.62  74.24  \n",
       "\n",
       "[5 rows x 500 columns]"
      ]
     },
     "execution_count": 9,
     "metadata": {},
     "output_type": "execute_result"
    }
   ],
   "source": [
    "prices_df.head() "
   ]
  },
  {
   "cell_type": "code",
   "execution_count": 13,
   "metadata": {},
   "outputs": [],
   "source": [
    "#Calculate average annual percentage return and volatilities over a theoretical one year period\n",
    "returns = prices_df.pct_change().mean() * 252\n",
    "returns = pd.DataFrame(returns)\n",
    "#print(returns)\n",
    "returns.columns = ['Returns']\n",
    "returns['Volatility'] = prices_df.pct_change().std() * sqrt(252)\n",
    "#print(returns['Volatility'])\n",
    "#format the data as a numpy array to feed into the K-Means algorithm\n",
    "data = np.asarray([np.asarray(returns['Returns']),np.asarray(returns['Volatility'])]).T\n",
    "#removing NaN values, replacing them by 0\n",
    "cleaned_data = np.where(np.isnan(data), 0, data)\n",
    "#cleaned_data"
   ]
  },
  {
   "cell_type": "code",
   "execution_count": 14,
   "metadata": {
    "scrolled": true
   },
   "outputs": [
    {
     "data": {
      "image/png": "[encoded data removed]",
      "text/plain": [
       "<matplotlib.figure.Figure at 0x1e87d749a20>"
      ]
     },
     "metadata": {},
     "output_type": "display_data"
    }
   ],
   "source": [
    "from sklearn.cluster import KMeans\n",
    "X = cleaned_data\n",
    "#within cluster sum of squares.we calculate the sum of squares of the distance of each data point \n",
    "# in cluster k from their center point ki.\n",
    "wcss = []\n",
    "for k in range(2, 20):\n",
    "    k_means = KMeans(n_clusters=k)\n",
    "    k_means.fit(X)\n",
    "    wcss.append(k_means.inertia_)\n",
    "\n",
    "fig = plt.figure(figsize=(15, 5))\n",
    "plt.plot(range(2, 20), wcss)\n",
    "plt.grid(True)\n",
    "plt.title('Elbow curve')\n",
    "plt.show()"
   ]
  },
  {
   "cell_type": "code",
   "execution_count": 21,
   "metadata": {},
   "outputs": [],
   "source": [
    "#the change in slope of curve is not significant after k=5. Hence we select no. of clusters to be 5\n",
    "\n",
    "# computing K-Means with K = 5 (5 clusters)\n",
    "centroids,_ = kmeans(cleaned_data,5)\n",
    "# assign each sample to a cluster\n",
    "idx,_ = vq(cleaned_data,centroids)\n",
    " \n",
    "data = cleaned_data"
   ]
  },
  {
   "cell_type": "code",
   "execution_count": 16,
   "metadata": {},
   "outputs": [
    {
     "data": {
      "image/png": "[encoded data removed]",
      "text/plain": [
       "<matplotlib.figure.Figure at 0x1e87d7eeba8>"
      ]
     },
     "metadata": {},
     "output_type": "display_data"
    }
   ],
   "source": [
    "#using scatter plt \n",
    "plt.scatter(X[idx==0,0],X[idx==0,1],s=100,c='red',label='Cluster1',alpha=0.65)\n",
    "plt.scatter(X[idx==1,0],X[idx==1,1],s=100,c='blue',label='Cluster2',alpha=0.65)\n",
    "plt.scatter(X[idx==2,0],X[idx==2,1],s=100,c='green',label='Cluster3',alpha=0.65)\n",
    "plt.scatter(X[idx==3,0],X[idx==3,1],s=100,c='cyan',label='Cluster4',alpha=0.65)\n",
    "plt.scatter(X[idx==4,0],X[idx==4,1],s=100,c='black',label='Cluster5',alpha=0.65)\n",
    "#plt.scatter(k_means.cluster_centers_[:,0],k_means.cluster_centers_[:,1],s=300,c='yellow')\n",
    "plt.scatter(centroids[:,0],centroids[:,1],s=200, c='yellow', alpha = 0.8)\n",
    "plt.legend()\n",
    "plt.show()"
   ]
  },
  {
   "cell_type": "code",
   "execution_count": 17,
   "metadata": {},
   "outputs": [],
   "source": [
    "#Finally to get the details of which stock is actually in which cluster we can run the following line \n",
    "# of code to carry out a list comprehension to create a list of tuples in the (Stock Name, Cluster Number) format\n",
    "details = [(name,cluster) for name, cluster in zip(returns.index,idx)]"
   ]
  },
  {
   "cell_type": "code",
   "execution_count": 18,
   "metadata": {},
   "outputs": [
    {
     "data": {
      "text/html": [
       "<div>\n",
       "<style>\n",
       "    .dataframe thead tr:only-child th {\n",
       "        text-align: right;\n",
       "    }\n",
       "\n",
       "    .dataframe thead th {\n",
       "        text-align: left;\n",
       "    }\n",
       "\n",
       "    .dataframe tbody tr th {\n",
       "        vertical-align: top;\n",
       "    }\n",
       "</style>\n",
       "<table border=\"1\" class=\"dataframe\">\n",
       "  <thead>\n",
       "    <tr style=\"text-align: right;\">\n",
       "      <th></th>\n",
       "      <th>Stock Symbol</th>\n",
       "      <th>Cluster</th>\n",
       "    </tr>\n",
       "  </thead>\n",
       "  <tbody>\n",
       "    <tr>\n",
       "      <th>0</th>\n",
       "      <td>MMM</td>\n",
       "      <td>1</td>\n",
       "    </tr>\n",
       "    <tr>\n",
       "      <th>1</th>\n",
       "      <td>ABT</td>\n",
       "      <td>2</td>\n",
       "    </tr>\n",
       "    <tr>\n",
       "      <th>2</th>\n",
       "      <td>ABBV</td>\n",
       "      <td>4</td>\n",
       "    </tr>\n",
       "    <tr>\n",
       "      <th>3</th>\n",
       "      <td>ACN</td>\n",
       "      <td>1</td>\n",
       "    </tr>\n",
       "    <tr>\n",
       "      <th>4</th>\n",
       "      <td>ATVI</td>\n",
       "      <td>2</td>\n",
       "    </tr>\n",
       "    <tr>\n",
       "      <th>5</th>\n",
       "      <td>AYI</td>\n",
       "      <td>3</td>\n",
       "    </tr>\n",
       "    <tr>\n",
       "      <th>6</th>\n",
       "      <td>ADBE</td>\n",
       "      <td>4</td>\n",
       "    </tr>\n",
       "    <tr>\n",
       "      <th>7</th>\n",
       "      <td>AMD</td>\n",
       "      <td>2</td>\n",
       "    </tr>\n",
       "    <tr>\n",
       "      <th>8</th>\n",
       "      <td>AAP</td>\n",
       "      <td>2</td>\n",
       "    </tr>\n",
       "    <tr>\n",
       "      <th>9</th>\n",
       "      <td>AES</td>\n",
       "      <td>1</td>\n",
       "    </tr>\n",
       "  </tbody>\n",
       "</table>\n",
       "</div>"
      ],
      "text/plain": [
       "  Stock Symbol  Cluster\n",
       "0          MMM        1\n",
       "1          ABT        2\n",
       "2         ABBV        4\n",
       "3          ACN        1\n",
       "4         ATVI        2\n",
       "5          AYI        3\n",
       "6         ADBE        4\n",
       "7          AMD        2\n",
       "8          AAP        2\n",
       "9          AES        1"
      ]
     },
     "execution_count": 18,
     "metadata": {},
     "output_type": "execute_result"
    }
   ],
   "source": [
    "labels =['Stock Symbol', 'Cluster']\n",
    "df = pd.DataFrame.from_records(details, columns=labels)\n",
    "df.head(n=10)"
   ]
  },
  {
   "cell_type": "code",
   "execution_count": 19,
   "metadata": {
    "collapsed": true
   },
   "outputs": [],
   "source": [
    "import os\n",
    "import warnings\n",
    "warnings.filterwarnings('ignore')\n",
    "os.chdir('C:\\\\Users\\\\Sharif Niyaz\\\\Documents\\\\jupyter_notebook\\\\Machine-Learning-Python-master\\\\data')"
   ]
  },
  {
   "cell_type": "code",
   "execution_count": 20,
   "metadata": {
    "collapsed": true
   },
   "outputs": [],
   "source": [
    "#writing the stocks and cluster they belong to a csv file which can be used to build diverse portfolio.\n",
    "df.to_csv('stock_portfolio.csv', header= True)"
   ]
  }
 ],
 "metadata": {
  "kernelspec": {
   "display_name": "Python 3",
   "language": "python",
   "name": "python3"
  },
  "language_info": {
   "codemirror_mode": {
    "name": "ipython",
    "version": 3
   },
   "file_extension": ".py",
   "mimetype": "text/x-python",
   "name": "python",
   "nbconvert_exporter": "python",
   "pygments_lexer": "ipython3",
   "version": "3.6.3"
  }
 },
 "nbformat": 4,
 "nbformat_minor": 2
}
